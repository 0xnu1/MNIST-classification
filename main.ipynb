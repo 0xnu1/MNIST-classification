{
 "cells": [
  {
   "cell_type": "code",
   "execution_count": 5,
   "metadata": {
    "collapsed": true
   },
   "outputs": [
    {
     "name": "stdout",
     "output_type": "stream",
     "text": [
      "Downloading and preparing dataset Unknown size (download: Unknown size, generated: Unknown size, total: Unknown size) to C:\\Users\\annes\\tensorflow_datasets\\mnist\\3.0.1...\n"
     ]
    },
    {
     "data": {
      "text/plain": "Dl Completed...: 0 url [00:00, ? url/s]",
      "application/vnd.jupyter.widget-view+json": {
       "version_major": 2,
       "version_minor": 0,
       "model_id": "c66c2ccde9694335b797a1f84e7a02ee"
      }
     },
     "metadata": {},
     "output_type": "display_data"
    },
    {
     "data": {
      "text/plain": "Dl Size...: 0 MiB [00:00, ? MiB/s]",
      "application/vnd.jupyter.widget-view+json": {
       "version_major": 2,
       "version_minor": 0,
       "model_id": "11dfec99b46a4804b19e1de301df0f70"
      }
     },
     "metadata": {},
     "output_type": "display_data"
    },
    {
     "data": {
      "text/plain": "Extraction completed...: 0 file [00:00, ? file/s]",
      "application/vnd.jupyter.widget-view+json": {
       "version_major": 2,
       "version_minor": 0,
       "model_id": "a8bf8176e8e84f3ca8e84f435c1437a0"
      }
     },
     "metadata": {},
     "output_type": "display_data"
    },
    {
     "data": {
      "text/plain": "Generating splits...:   0%|          | 0/2 [00:00<?, ? splits/s]",
      "application/vnd.jupyter.widget-view+json": {
       "version_major": 2,
       "version_minor": 0,
       "model_id": "e507e168b3c244f9b68361240b9eb38f"
      }
     },
     "metadata": {},
     "output_type": "display_data"
    },
    {
     "data": {
      "text/plain": "Generating train examples...: 0 examples [00:00, ? examples/s]",
      "application/vnd.jupyter.widget-view+json": {
       "version_major": 2,
       "version_minor": 0,
       "model_id": "6d4424850a98498ba7b99aa8f79b8720"
      }
     },
     "metadata": {},
     "output_type": "display_data"
    },
    {
     "data": {
      "text/plain": "Shuffling C:\\Users\\annes\\tensorflow_datasets\\mnist\\3.0.1.incompleteRY16Y8\\mnist-train.tfrecord*...:   0%|     …",
      "application/vnd.jupyter.widget-view+json": {
       "version_major": 2,
       "version_minor": 0,
       "model_id": "baec229b2cff449ca75745fffdcea8c9"
      }
     },
     "metadata": {},
     "output_type": "display_data"
    },
    {
     "data": {
      "text/plain": "Generating test examples...: 0 examples [00:00, ? examples/s]",
      "application/vnd.jupyter.widget-view+json": {
       "version_major": 2,
       "version_minor": 0,
       "model_id": "cd80b318a9eb487b95212b63595d7d18"
      }
     },
     "metadata": {},
     "output_type": "display_data"
    },
    {
     "data": {
      "text/plain": "Shuffling C:\\Users\\annes\\tensorflow_datasets\\mnist\\3.0.1.incompleteRY16Y8\\mnist-test.tfrecord*...:   0%|      …",
      "application/vnd.jupyter.widget-view+json": {
       "version_major": 2,
       "version_minor": 0,
       "model_id": "4f3293033eef4a07bb0333ccd3f52ae9"
      }
     },
     "metadata": {},
     "output_type": "display_data"
    },
    {
     "name": "stdout",
     "output_type": "stream",
     "text": [
      "Dataset mnist downloaded and prepared to C:\\Users\\annes\\tensorflow_datasets\\mnist\\3.0.1. Subsequent calls will reuse this data.\n"
     ]
    }
   ],
   "source": [
    "# import libraries\n",
    "import numpy as np\n",
    "import tensorflow as tf\n",
    "\n",
    "import tensorflow_datasets as tfds\n",
    "\n",
    "# Loading the dataset\n",
    "mnist_dataset, mnist_info = tfds.load('mnist', with_info=True, as_supervised=True)"
   ]
  },
  {
   "cell_type": "markdown",
   "source": [
    "# Preprocessing the dataset"
   ],
   "metadata": {
    "collapsed": false
   }
  },
  {
   "cell_type": "code",
   "execution_count": 23,
   "outputs": [],
   "source": [
    "# splitting the data\n",
    "mnist_train, mnist_test= mnist_dataset['train'], mnist_dataset['test']\n",
    "# number of validation samples\n",
    "num_validation = 0.1*mnist_info.splits['train'].num_examples\n",
    "num_validation = tf.cast(num_validation, tf.int64) # converts it to int64\n",
    "# number of test samples\n",
    "num_test = mnist_info.splits['test'].num_examples\n",
    "num_test = tf.cast(num_test, tf.int64)\n",
    "\n",
    "# scale the data to the range [0,1]\n",
    "def scale(image, label):\n",
    "    image = tf.cast(image, tf.float64)\n",
    "    image /= 255.\n",
    "    return image, label\n",
    "\n",
    "scaled_train_nd_validation_data = mnist_train.map(scale)\n",
    "test_data = mnist_test.map(scale)"
   ],
   "metadata": {
    "collapsed": false
   }
  },
  {
   "cell_type": "code",
   "execution_count": 24,
   "outputs": [],
   "source": [
    "# buffer size\n",
    "buffer_size = 10000\n",
    "# shuffle the data\n",
    "shuffled_train_nd_validation_data = scaled_train_nd_validation_data.shuffle(buffer_size)\n",
    "# split the shuffled train and validation data\n",
    "train_data = shuffled_train_nd_validation_data.skip(num_validation)\n",
    "validation_data = shuffled_train_nd_validation_data.take(num_validation)\n",
    "# batch size\n",
    "BATCH_SIZE = 100\n",
    "train_data = train_data.batch(BATCH_SIZE)# combines the consecutive elements into batches\n",
    "# we don't need to batch the validation and the test data\n",
    "validation_data = validation_data.batch(num_validation)\n",
    "test_data = test_data.batch(num_test)\n",
    "\n",
    "# extract and convert the validation inputs and targets\n",
    "validation_inputs, validation_targets = next(iter(validation_data)) #loads the next element of an iterable object ( with the iter fct )"
   ],
   "metadata": {
    "collapsed": false
   }
  },
  {
   "cell_type": "markdown",
   "source": [
    "# Model"
   ],
   "metadata": {
    "collapsed": false
   }
  },
  {
   "cell_type": "markdown",
   "source": [
    "## Outline the model"
   ],
   "metadata": {
    "collapsed": false
   }
  },
  {
   "cell_type": "code",
   "execution_count": 40,
   "outputs": [
    {
     "data": {
      "text/plain": "<keras.engine.sequential.Sequential at 0x20bed1df6a0>"
     },
     "execution_count": 40,
     "metadata": {},
     "output_type": "execute_result"
    }
   ],
   "source": [
    "input_size = 784\n",
    "output_size = 10\n",
    "hidden_layer_size = 100\n",
    "\n",
    "# building the model\n",
    "model = tf.keras.Sequential([\n",
    "    tf.keras.layers.Flatten(input_shape=(28,28,1)), # transform tensor into a vector\n",
    "    tf.keras.layers.Dense(hidden_layer_size, activation='relu'), #build each consecutive layer\n",
    "    tf.keras.layers.Dense(hidden_layer_size, activation='relu'), # the second layer\n",
    "    tf.keras.layers.Dense(hidden_layer_size, activation='relu'), # the third layer\n",
    "    tf.keras.layers.Dense(output_size, activation='softmax') # the last layer\n",
    "])\n",
    "\n",
    "model"
   ],
   "metadata": {
    "collapsed": false
   }
  },
  {
   "cell_type": "markdown",
   "source": [
    "## Choose the optimizer and the loss function"
   ],
   "metadata": {
    "collapsed": false
   }
  },
  {
   "cell_type": "code",
   "execution_count": 42,
   "outputs": [],
   "source": [
    "model.compile(optimizer='adam', loss='sparse_categorical_crossentropy', metrics=['accuracy'])"
   ],
   "metadata": {
    "collapsed": false
   }
  },
  {
   "cell_type": "markdown",
   "source": [
    "## Training the model"
   ],
   "metadata": {
    "collapsed": false
   }
  },
  {
   "cell_type": "code",
   "execution_count": 43,
   "outputs": [
    {
     "name": "stdout",
     "output_type": "stream",
     "text": [
      "Epoch 1/10\n",
      "540/540 - 4s - loss: 0.3264 - accuracy: 0.9045 - val_loss: 0.1548 - val_accuracy: 0.9547 - 4s/epoch - 8ms/step\n",
      "Epoch 2/10\n",
      "540/540 - 2s - loss: 0.1298 - accuracy: 0.9603 - val_loss: 0.1012 - val_accuracy: 0.9702 - 2s/epoch - 4ms/step\n",
      "Epoch 3/10\n",
      "540/540 - 3s - loss: 0.0903 - accuracy: 0.9721 - val_loss: 0.0772 - val_accuracy: 0.9793 - 3s/epoch - 5ms/step\n",
      "Epoch 4/10\n",
      "540/540 - 3s - loss: 0.0706 - accuracy: 0.9779 - val_loss: 0.0640 - val_accuracy: 0.9788 - 3s/epoch - 5ms/step\n",
      "Epoch 5/10\n",
      "540/540 - 3s - loss: 0.0547 - accuracy: 0.9835 - val_loss: 0.0593 - val_accuracy: 0.9833 - 3s/epoch - 5ms/step\n",
      "Epoch 6/10\n",
      "540/540 - 3s - loss: 0.0460 - accuracy: 0.9848 - val_loss: 0.0598 - val_accuracy: 0.9805 - 3s/epoch - 5ms/step\n",
      "Epoch 7/10\n",
      "540/540 - 3s - loss: 0.0378 - accuracy: 0.9881 - val_loss: 0.0496 - val_accuracy: 0.9837 - 3s/epoch - 5ms/step\n",
      "Epoch 8/10\n",
      "540/540 - 3s - loss: 0.0331 - accuracy: 0.9890 - val_loss: 0.0428 - val_accuracy: 0.9857 - 3s/epoch - 5ms/step\n",
      "Epoch 9/10\n",
      "540/540 - 3s - loss: 0.0291 - accuracy: 0.9913 - val_loss: 0.0338 - val_accuracy: 0.9890 - 3s/epoch - 5ms/step\n",
      "Epoch 10/10\n",
      "540/540 - 3s - loss: 0.0264 - accuracy: 0.9915 - val_loss: 0.0320 - val_accuracy: 0.9892 - 3s/epoch - 5ms/step\n"
     ]
    },
    {
     "data": {
      "text/plain": "<keras.callbacks.History at 0x20bed1c55e0>"
     },
     "execution_count": 43,
     "metadata": {},
     "output_type": "execute_result"
    }
   ],
   "source": [
    "NUM_EPOCHS = 10\n",
    "# fit the model\n",
    "model.fit(train_data, epochs=NUM_EPOCHS, validation_data=(validation_inputs, validation_targets), verbose=2)"
   ],
   "metadata": {
    "collapsed": false
   }
  },
  {
   "cell_type": "markdown",
   "source": [
    "## Test the model"
   ],
   "metadata": {
    "collapsed": false
   }
  },
  {
   "cell_type": "code",
   "execution_count": 46,
   "outputs": [
    {
     "name": "stdout",
     "output_type": "stream",
     "text": [
      "1/1 [==============================] - 0s 199ms/step - loss: 0.0940 - accuracy: 0.9756\n",
      "Test loss: 0.09. Test accuracy: 97.56\n"
     ]
    }
   ],
   "source": [
    "# evaluate the model\n",
    "test_loss, test_accuracy = model.evaluate(test_data)\n",
    "print('Test loss: {0:.2f}. Test accuracy: {1:.2f}'.format(test_loss, test_accuracy*100.))"
   ],
   "metadata": {
    "collapsed": false
   }
  }
 ],
 "metadata": {
  "kernelspec": {
   "display_name": "Python 3",
   "language": "python",
   "name": "python3"
  },
  "language_info": {
   "codemirror_mode": {
    "name": "ipython",
    "version": 2
   },
   "file_extension": ".py",
   "mimetype": "text/x-python",
   "name": "python",
   "nbconvert_exporter": "python",
   "pygments_lexer": "ipython2",
   "version": "2.7.6"
  }
 },
 "nbformat": 4,
 "nbformat_minor": 0
}
